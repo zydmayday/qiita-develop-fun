{
  "nbformat": 4,
  "nbformat_minor": 0,
  "metadata": {
    "colab": {
      "name": "学习TCP/IP.ipynb",
      "provenance": []
    },
    "kernelspec": {
      "name": "python3",
      "display_name": "Python 3",
      "language": "python"
    }
  },
  "cells": [
    {
      "cell_type": "code",
      "metadata": {
        "id": "wePLGX6OXL-k"
      },
      "source": [
        "import socket"
      ],
      "execution_count": 1,
      "outputs": []
    },
    {
      "cell_type": "code",
      "metadata": {
        "colab": {
          "base_uri": "https://localhost:8080/"
        },
        "id": "A2OxhKIcaf2j",
        "outputId": "45e99358-9127-4110-e294-900348dcb6b6"
      },
      "source": [
        "import socket\r\n",
        "s = socket.socket(socket.AF_INET,socket.SOCK_STREAM)\r\n",
        "s.connect(('www.baidu.com', 80))\r\n",
        "s.send(b'''GET https://www.baidu.com/ HTTP/1.1\r\n",
        "\r\n",
        "''')\r\n",
        "\r\n",
        "buf = s.recv(1024)\r\n",
        "buf += s.recv(1024)\r\n",
        "print(buf.decode('utf-8'))"
      ],
      "execution_count": 32,
      "outputs": [
        {
          "output_type": "stream",
          "name": "stdout",
          "text": [
            "HTTP/1.1 200 OK\nAccept-Ranges: bytes\nCache-Control: no-cache\nConnection: keep-alive\nContent-Length: 14615\nContent-Type: text/html\nDate: Thu, 21 Jan 2021 12:55:02 GMT\nP3p: CP=\" OTI DSP COR IVA OUR IND COM \"\nP3p: CP=\" OTI DSP COR IVA OUR IND COM \"\nPragma: no-cache\nServer: BWS/1.1\nSet-Cookie: BAIDUID=66208EF95192699D0803AA9BB1A5F411:FG=1; expires=Thu, 31-Dec-37 23:55:55 GMT; max-age=2147483647; path=/; domain=.baidu.com\nSet-Cookie: BIDUPSID=66208EF95192699D0803AA9BB1A5F411; expires=Thu, 31-Dec-37 23:55:55 GMT; max-age=2147483647; path=/; domain=.baidu.com\nSet-Cookie: PSTM=1611233702; expires=Thu, 31-Dec-37 23:55:55 GMT; max-age=2147483647; path=/; domain=.baidu.com\nSet-Cookie: BAIDUID=66208EF95192699DEA1D19A73A1B7BE0:FG=1; max-age=31536000; expires=Fri, 21-Jan-22 12:55:02 GMT; domain=.baidu.com; path=/; version=1; comment=bd\nTraceid: 161123370204625185386562456869675162234\nVary: Accept-Encoding\nX-Ua-Compatible: IE=Edge,chrome=1\n\n<!DOCTYPE html><!--STATUS OK-->\n<html>\n<head>\n\t<meta http-equiv=\"content-type\" content=\"text/html;charset=utf-8\">\n\t<meta http-equiv=\"X-UA-Compatible\" content=\"IE=Edge\">\n\t<link rel=\"dns-prefetch\" href=\"//s1.bdstatic.com\"/>\n\t<link rel=\"dns-prefetch\" href=\"//t1.baidu.com\"/>\n\t<link rel=\"dns-prefetch\" href=\"//t2.baidu.com\"/>\n\t<link rel=\"dns-prefetch\" href=\"//t3.baidu.com\"/>\n\t<link rel=\"dns-prefetch\" href=\"//t10.baidu.com\"/>\n\t<link rel=\"dns-prefetch\" href=\"//t11.baidu.com\"/>\n\t<link rel=\"dns-prefetch\" href=\"//t12.baidu.com\"/>\n\t<link rel=\"dns-prefetch\" href=\"//b1.bdstatic.com\"/>\n\t<title>百度一下，你就知道</title>\n\t<link href=\"http://s1.bdstatic.com/r/www/cache/static/home/css/index.css\" rel=\"stylesheet\" type=\"text/css\" />\n\t<!--[if lte IE 8]><style index=\"index\" >#content{height:480px\\9}#m{top:260px\\9}</style><![endif]-->\n\t<!--[if IE 8]><style index=\"index\" >#u1 a.mnav,#u1 a.mnav:visited{font-family:simsun}</style><![endif]-->\n\t<script>var hashMatch = document.location.href.match(/#+(.*wd=[^&].+)/);if (hashMatch && hashMatch[0] && hashMatch[1]) {document.l\n"
          ]
        }
      ]
    },
    {
      "cell_type": "code",
      "execution_count": 1,
      "metadata": {},
      "outputs": [
        {
          "output_type": "stream",
          "name": "stdout",
          "text": [
            "HTTP/1.1 200 OK\nDate: Sun, 24 Jan 2021 05:43:50 GMT\nConnection: keep-alive\nTransfer-Encoding: chunked\n\n6\nHello \n3\nzyd\n0\n\n\n"
          ]
        }
      ],
      "source": [
        "import socket\n",
        "s = socket.socket(socket.AF_INET,socket.SOCK_STREAM)\n",
        "s.connect((\"localhost\", 8080))\n",
        "s.send(b'''GET /zyd HTTP/1.1\n",
        "Host: localhost:8080\n",
        "\n",
        "''')\n",
        "\n",
        "buf = s.recv(200)\n",
        "print(buf.decode('utf-8'))"
      ]
    },
    {
      "cell_type": "code",
      "execution_count": null,
      "metadata": {},
      "outputs": [],
      "source": []
    }
  ]
}